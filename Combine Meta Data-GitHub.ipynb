{
 "cells": [
  {
   "cell_type": "code",
   "execution_count": 1,
   "metadata": {
    "collapsed": true
   },
   "outputs": [],
   "source": [
    "import pandas as pd #the data will be saved locally as a csv file. Pandas is a nice way to write/read/work with those files.\n",
    "import numpy as np #to do math\n",
    "import matplotlib.pyplot as plt #To make plots\n",
    "%matplotlib inline\n",
    "import glob #to import file names of TMS snapshots recorded as csv files, to be later combined in dataframe\n",
    "from datetime import timedelta #for accurate plotting of dates%matplotlib inline\n",
    "from datetime import datetime"
   ]
  },
  {
   "cell_type": "code",
   "execution_count": 2,
   "metadata": {
    "collapsed": false
   },
   "outputs": [],
   "source": [
    "filenames=glob.glob('listingsSnapShot*.csv')\n",
    "filenames=sorted(filenames,reverse=True)"
   ]
  },
  {
   "cell_type": "code",
   "execution_count": 3,
   "metadata": {
    "collapsed": false
   },
   "outputs": [
    {
     "data": {
      "text/plain": [
       "'listingsSnapShot170508.csv'"
      ]
     },
     "execution_count": 3,
     "metadata": {},
     "output_type": "execute_result"
    }
   ],
   "source": [
    "filenames[0]"
   ]
  },
  {
   "cell_type": "code",
   "execution_count": 4,
   "metadata": {
    "collapsed": true
   },
   "outputs": [],
   "source": [
    "df=pd.read_csv(filenames[0],encoding='ISO-8859-1')"
   ]
  },
  {
   "cell_type": "code",
   "execution_count": 5,
   "metadata": {
    "collapsed": false
   },
   "outputs": [],
   "source": [
    "for x in range(1,len(filenames)):\n",
    "    dftemp=pd.read_csv(filenames[x],encoding='ISO-8859-1');\n",
    "    df_listing=df.loc[:,'listing'].values;\n",
    "    dftemp_listing=dftemp.loc[:,'listing'].values;\n",
    "    unique_listings=[num for num in dftemp_listing if num not in df_listing];\n",
    "    dftemp2=dftemp.loc[dftemp.loc[:,'listing'].isin(unique_listings),:].copy();\n",
    "    #these next lines account for postings being pulled before the closing date\n",
    "    #non-ideal fix: when program notices posting is gone before it should be,\n",
    "    #change closing date to date of recording where posting first noticed to be missing\n",
    "    scrape_date=datetime.strptime(filenames[x-1].split('.')[0][-6:],'%y%m%d')\n",
    "    dftemp2.loc[pd.to_datetime(dftemp2.loc[1:,'Closing Date'])>scrape_date,\n",
    "            'Closing Date']=scrape_date.strftime('%m/%d/%Y').lstrip('0')\n",
    "    frames = [df, dftemp2]\n",
    "    result = pd.concat(frames)\n",
    "    result.reset_index(inplace=True)\n",
    "    del result['index']\n",
    "    df=result"
   ]
  },
  {
   "cell_type": "code",
   "execution_count": 6,
   "metadata": {
    "collapsed": false
   },
   "outputs": [
    {
     "data": {
      "text/plain": [
       "364"
      ]
     },
     "execution_count": 6,
     "metadata": {},
     "output_type": "execute_result"
    }
   ],
   "source": [
    "len(df)"
   ]
  },
  {
   "cell_type": "code",
   "execution_count": 7,
   "metadata": {
    "collapsed": false
   },
   "outputs": [],
   "source": [
    "df2=pd.DataFrame(columns=['Listings','HTML','Position Title', 'Agency/Sub-Agency',\n",
    "       'Opening Date', 'Closing Date', 'Number of Positions','State', 'Series', 'GS-09','GS-11','GS-12','GS-13',\n",
    "       'Promotion Potential'])\n",
    "x=0\n",
    "y=0\n",
    "for x in range(0,len(df)):\n",
    "    subtest1=[]\n",
    "    subtest2=[]\n",
    "    z=0\n",
    "    c=df.loc[x,'Positions'].split();\n",
    "    for elm in c:\n",
    "        if elm=='in':\n",
    "            try:\n",
    "                subtest1.append(int(c[z-1]))\n",
    "                #print(int(c[x-1]))\n",
    "            except:\n",
    "                subtest1.append(int(c[z-1][2:]))\n",
    "                subtest2.append(c[z-1][0:2])\n",
    "        z=z+1\n",
    "    subtest2.append(c[-1])\n",
    "    for w in range(0,len(subtest1)):\n",
    "        df2.loc[y,'Listings']=df.loc[x,'listing']\n",
    "        df2.loc[y,'HTML']=df.loc[x,'info']\n",
    "        df2.loc[y,'Position Title']=df.loc[x,'Position Title']\n",
    "        df2.loc[y,'Agency/Sub-Agency']=df.loc[x,'Agency/Sub-Agency']\n",
    "        df2.loc[y,'Opening Date']=df.loc[x,'Opening Date']\n",
    "        df2.loc[y,'Closing Date']=df.loc[x,'Closing Date']\n",
    "        df2.loc[y,'Series']=df.loc[x,'Series'][0:4]\n",
    "        df2.loc[y,'Position Title']=df.loc[x,'Position Title']\n",
    "        df2.loc[y,'Position Title']=df.loc[x,'Position Title']\n",
    "        df2.loc[y,'Position Title']=df.loc[x,'Position Title']\n",
    "        df2.loc[y,'GS-09']= 'GS-09' in df.loc[x,'Grade Level']\n",
    "        df2.loc[y,'GS-11']= 'GS-11' in df.loc[x,'Grade Level']\n",
    "        df2.loc[y,'GS-12']='GS-12' in df.loc[x,'Grade Level']\n",
    "        df2.loc[y,'GS-13']='GS-13' in df.loc[x,'Grade Level']\n",
    "        df2.loc[y,'Promotion Potential']=df.loc[x,'Promotion Potential']\n",
    "        df2.loc[y,'Number of Positions']=subtest1[w]\n",
    "        #df2.loc[y,'State']=subtest2[w]\n",
    "        df2.loc[y,'State']=subtest2[1][0:2]\n",
    "        y=y+1"
   ]
  },
  {
   "cell_type": "code",
   "execution_count": 8,
   "metadata": {
    "collapsed": false
   },
   "outputs": [],
   "source": [
    "dfearly=pd.read_csv('meta_early.csv',encoding='ISO-8859-1')"
   ]
  },
  {
   "cell_type": "code",
   "execution_count": 9,
   "metadata": {
    "collapsed": false
   },
   "outputs": [
    {
     "data": {
      "text/html": [
       "<div>\n",
       "<table border=\"1\" class=\"dataframe\">\n",
       "  <thead>\n",
       "    <tr style=\"text-align: right;\">\n",
       "      <th></th>\n",
       "      <th>Listings</th>\n",
       "      <th>Position Title</th>\n",
       "      <th>Agency/Sub-Agency</th>\n",
       "      <th>Opening Date</th>\n",
       "      <th>Closing Date</th>\n",
       "      <th>Number of Positions</th>\n",
       "      <th>State</th>\n",
       "      <th>Series</th>\n",
       "      <th>GS-09</th>\n",
       "      <th>GS-11</th>\n",
       "      <th>GS-12</th>\n",
       "      <th>GS-13</th>\n",
       "      <th>Promotion Potential</th>\n",
       "    </tr>\n",
       "  </thead>\n",
       "  <tbody>\n",
       "    <tr>\n",
       "      <th>0</th>\n",
       "      <td>3</td>\n",
       "      <td>Research Analyst</td>\n",
       "      <td>Broadcasting Board of Governors</td>\n",
       "      <td>2017-01-13 00:00:00</td>\n",
       "      <td>2017-12-13 00:00:00</td>\n",
       "      <td>1</td>\n",
       "      <td>DC</td>\n",
       "      <td>343</td>\n",
       "      <td>False</td>\n",
       "      <td>True</td>\n",
       "      <td>False</td>\n",
       "      <td>False</td>\n",
       "      <td>GS-13</td>\n",
       "    </tr>\n",
       "    <tr>\n",
       "      <th>1</th>\n",
       "      <td>9</td>\n",
       "      <td>Management and Program Analyst</td>\n",
       "      <td>Department of the Treasury / Bureau of the Fis...</td>\n",
       "      <td>2017-01-18 00:00:00</td>\n",
       "      <td>2017-03-01 00:00:00</td>\n",
       "      <td>1</td>\n",
       "      <td>DC</td>\n",
       "      <td>343</td>\n",
       "      <td>False</td>\n",
       "      <td>False</td>\n",
       "      <td>False</td>\n",
       "      <td>False</td>\n",
       "      <td>GS-12</td>\n",
       "    </tr>\n",
       "  </tbody>\n",
       "</table>\n",
       "</div>"
      ],
      "text/plain": [
       "   Listings                  Position Title  \\\n",
       "0         3                Research Analyst   \n",
       "1         9  Management and Program Analyst   \n",
       "\n",
       "                                   Agency/Sub-Agency         Opening Date  \\\n",
       "0                    Broadcasting Board of Governors  2017-01-13 00:00:00   \n",
       "1  Department of the Treasury / Bureau of the Fis...  2017-01-18 00:00:00   \n",
       "\n",
       "          Closing Date  Number of Positions State  Series  GS-09  GS-11  \\\n",
       "0  2017-12-13 00:00:00                    1    DC     343  False   True   \n",
       "1  2017-03-01 00:00:00                    1    DC     343  False  False   \n",
       "\n",
       "   GS-12  GS-13 Promotion Potential  \n",
       "0  False  False               GS-13  \n",
       "1  False  False               GS-12  "
      ]
     },
     "execution_count": 9,
     "metadata": {},
     "output_type": "execute_result"
    }
   ],
   "source": [
    "dfearly.head(2)"
   ]
  },
  {
   "cell_type": "code",
   "execution_count": 10,
   "metadata": {
    "collapsed": false
   },
   "outputs": [],
   "source": [
    "df2_listing=df2.loc[:,'Listings'].values;\n",
    "dfearly_listing=dfearly.loc[:,'Listings'].values;\n",
    "unique_listings=[num for num in dfearly_listing if num not in df2_listing];\n",
    "dftemp2=dfearly.loc[dfearly.loc[:,'Listings'].isin(unique_listings),:].copy();\n",
    "scrape_date=datetime.strptime(filenames[-1].split('.')[0][-6:],'%y%m%d')\n",
    "dftemp2.loc[pd.to_datetime(dftemp2.loc[1:,'Closing Date'])>scrape_date,\n",
    "        'Closing Date']=scrape_date.strftime('%m/%d/%Y').lstrip('0')\n",
    "frames = [df2, dftemp2]\n",
    "result = pd.concat(frames)\n",
    "result.reset_index(inplace=True)\n",
    "del result['index']\n",
    "df2=result"
   ]
  },
  {
   "cell_type": "code",
   "execution_count": 11,
   "metadata": {
    "collapsed": false
   },
   "outputs": [
    {
     "data": {
      "text/plain": [
       "435"
      ]
     },
     "execution_count": 11,
     "metadata": {},
     "output_type": "execute_result"
    }
   ],
   "source": [
    "len(df2)"
   ]
  },
  {
   "cell_type": "code",
   "execution_count": 12,
   "metadata": {
    "collapsed": false
   },
   "outputs": [
    {
     "data": {
      "text/plain": [
       "23"
      ]
     },
     "execution_count": 12,
     "metadata": {},
     "output_type": "execute_result"
    }
   ],
   "source": [
    "#number of postings without html attached\n",
    "len(df2[df2.loc[:,'HTML'].isnull()])"
   ]
  },
  {
   "cell_type": "code",
   "execution_count": 13,
   "metadata": {
    "collapsed": false
   },
   "outputs": [],
   "source": [
    "df2=df2.sort_values('Listings').copy()\n",
    "df2.reset_index(inplace=True)\n",
    "del df2['index']"
   ]
  },
  {
   "cell_type": "code",
   "execution_count": 14,
   "metadata": {
    "collapsed": false
   },
   "outputs": [],
   "source": [
    "df2.to_csv('meta_composite2.csv',index=False)"
   ]
  },
  {
   "cell_type": "code",
   "execution_count": null,
   "metadata": {
    "collapsed": true
   },
   "outputs": [],
   "source": []
  }
 ],
 "metadata": {
  "anaconda-cloud": {},
  "kernelspec": {
   "display_name": "Python [conda root]",
   "language": "python",
   "name": "conda-root-py"
  },
  "language_info": {
   "codemirror_mode": {
    "name": "ipython",
    "version": 3
   },
   "file_extension": ".py",
   "mimetype": "text/x-python",
   "name": "python",
   "nbconvert_exporter": "python",
   "pygments_lexer": "ipython3",
   "version": "3.5.2"
  }
 },
 "nbformat": 4,
 "nbformat_minor": 1
}
