{
 "cells": [
  {
   "cell_type": "markdown",
   "metadata": {
    "collapsed": false
   },
   "source": [
    "The iPython notebook scrapes the PMF webpage that lists the current Finalists. It then appends the appointment data from that scrape to a csv file of the Finalists that is used to track appointments over time. The resulting number of appointed PMFs is then displayed in a simple plot."
   ]
  },
  {
   "cell_type": "code",
   "execution_count": 1,
   "metadata": {
    "collapsed": true
   },
   "outputs": [],
   "source": [
    "import pandas as pd\n",
    "import matplotlib.pyplot as plt\n",
    "import numpy as np\n",
    "import seaborn as sns\n",
    "%matplotlib inline\n",
    "from datetime import timedelta #for accurate plotting of dates%matplotlib inline\n",
    "from datetime import datetime\n",
    "from bs4 import BeautifulSoup\n",
    "from urllib.request import urlopen"
   ]
  },
  {
   "cell_type": "code",
   "execution_count": 2,
   "metadata": {
    "collapsed": false
   },
   "outputs": [],
   "source": [
    "df=pd.read_csv('2017_Appointments.csv',encoding = \"ISO-8859-1\")"
   ]
  },
  {
   "cell_type": "markdown",
   "metadata": {},
   "source": [
    "This next block opens the webpage of 2017 finalists, locates the table of the finalists in the html, and for each finalists, records if they have an appointment in the dataframe df."
   ]
  },
  {
   "cell_type": "code",
   "execution_count": 3,
   "metadata": {
    "collapsed": false
   },
   "outputs": [],
   "source": [
    "url='https://apply.pmf.gov/finalists.aspx' #url of pmf finalist webpage\n",
    "html = urlopen(url); #using simple urlopen package to download webpage\n",
    "bsObj = BeautifulSoup(html.read(), 'lxml'); #using BeautifulSoup to decode webpage\n",
    "#this section pulls the date from the downloaded page, to be used when appending appointment record to csv file\n",
    "a=bsObj.find(id='container_date').text.replace('\\xa0','')\n",
    "b=datetime.strptime(a,'%A, %B %d, %Y')\n",
    "date=b.strftime('%y%m%d')\n",
    "#this section finds the table of finalists, then the Status column and\n",
    "#appends appointment status to csv file using Finalists' names as a key.\n",
    "bsObj_table=bsObj.find('table',id=\"dataTable\");\n",
    "bsObj_finalists=bsObj_table.find_all('tr');\n",
    "for x in range(0,len(bsObj_finalists)):\n",
    "    df.loc[df.loc[:,'Name']==bsObj_finalists[x].find_all('td')[1].text,'Status_%s'%(date)]=int(\n",
    "        bsObj_finalists[x].find_all('td')[5].text.replace('-','0').replace('Appointed','1'))"
   ]
  },
  {
   "cell_type": "markdown",
   "metadata": {},
   "source": [
    "A simple plot of the number of appointed 2017 Finalists. (170325 crafted from memory. Might be off by a day or an appointment.)\n"
   ]
  },
  {
   "cell_type": "code",
   "execution_count": 4,
   "metadata": {
    "collapsed": false
   },
   "outputs": [
    {
     "data": {
      "image/png": "[encoded data removed]",
      "text/plain": [
       "<matplotlib.figure.Figure at 0x1abe4e22eb8>"
      ]
     },
     "metadata": {},
     "output_type": "display_data"
    }
   ],
   "source": [
    "date=[];\n",
    "count=[];\n",
    "z=df.columns[df.columns.str.contains('Status')];\n",
    "for x in range(0,len(z)):\n",
    "    date.append(datetime.strptime(z[x][-6:],\"%y%m%d\"))\n",
    "    count.append(417-df.loc[:,z[x]].value_counts()[0])\n",
    "plt.step(date,count);\n",
    "plt.title('Appointment rate for 2017 PMF finalists');\n",
    "plt.ylabel('Number of Appointments (Max: 417)');\n",
    "plt.xlabel('Date');\n",
    "plt.xticks(rotation=90);\n",
    "plt.savefig('AppointmentRates2017.png',bbox_inches='tight')"
   ]
  },
  {
   "cell_type": "markdown",
   "metadata": {},
   "source": [
    "Saving the newly appended csv file."
   ]
  },
  {
   "cell_type": "code",
   "execution_count": 5,
   "metadata": {
    "collapsed": true
   },
   "outputs": [],
   "source": [
    "df.to_csv('2017_Appointments.csv',index=False)"
   ]
  },
  {
   "cell_type": "markdown",
   "metadata": {},
   "source": [
    "Current percent of 2017 Finalists listed as appointed:"
   ]
  },
  {
   "cell_type": "code",
   "execution_count": 6,
   "metadata": {
    "collapsed": false
   },
   "outputs": [
    {
     "data": {
      "text/plain": [
       "7.4"
      ]
     },
     "execution_count": 6,
     "metadata": {},
     "output_type": "execute_result"
    }
   ],
   "source": [
    "round((df.iloc[:,-1].sum()/417*100),1)"
   ]
  },
  {
   "cell_type": "markdown",
   "metadata": {},
   "source": [
    "Removing some redundant recordings. If a recording is the same as the recordings taken before and after, it will be dropped from the list that is uploaded to GitHub."
   ]
  },
  {
   "cell_type": "code",
   "execution_count": 7,
   "metadata": {
    "collapsed": false
   },
   "outputs": [],
   "source": [
    "repeats=[]\n",
    "for x in range(1,len(df.columns)-1):\n",
    "    if ((df.iloc[:,x]==df.iloc[:,x-1]).all())&((df.iloc[:,x]==df.iloc[:,x+1]).all()):\n",
    "        repeats.append(x)\n",
    "df.drop(df.columns[repeats],axis=1,inplace=True)\n",
    "df.drop('Name',axis=1,inplace=True)\n",
    "df.to_csv('Appointments2017-GitHub.csv',index=False)"
   ]
  },
  {
   "cell_type": "code",
   "execution_count": null,
   "metadata": {
    "collapsed": true
   },
   "outputs": [],
   "source": []
  },
  {
   "cell_type": "code",
   "execution_count": null,
   "metadata": {
    "collapsed": true
   },
   "outputs": [],
   "source": []
  }
 ],
 "metadata": {
  "anaconda-cloud": {},
  "kernelspec": {
   "display_name": "Python [conda root]",
   "language": "python",
   "name": "conda-root-py"
  },
  "language_info": {
   "codemirror_mode": {
    "name": "ipython",
    "version": 3
   },
   "file_extension": ".py",
   "mimetype": "text/x-python",
   "name": "python",
   "nbconvert_exporter": "python",
   "pygments_lexer": "ipython3",
   "version": "3.5.2"
  }
 },
 "nbformat": 4,
 "nbformat_minor": 1
}
