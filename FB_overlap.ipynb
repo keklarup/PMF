{
 "cells": [
  {
   "cell_type": "markdown",
   "metadata": {},
   "source": [
    "# Analysis of membership overlap between 3 PMF FB groups\n",
    "\n",
    "The FB webpage showing the full list of members from each FB group was manually saved to the local machine. BeautifulSoup was then used to parse the html. A bit of exploritory data analysis revealed each FB member's name could eventually be found in the recently joined section and with a particular class label. That information was used to scrape the names from each FB group, and counts of members of each group and overlaps between the groups could be made. These counts were slightly smaller than FB claimed. Finally, the Venn Diagram was made by an online tool: \n",
    "\n",
    "https://www.meta-chart.com/share/fb-group-overlap-as-of-7918"
   ]
  },
  {
   "cell_type": "code",
   "execution_count": null,
   "metadata": {
    "collapsed": true
   },
   "outputs": [],
   "source": [
    "import pandas as pd\n",
    "import numpy as np\n",
    "import os\n",
    "from bs4 import BeautifulSoup"
   ]
  },
  {
   "cell_type": "markdown",
   "metadata": {},
   "source": [
    "Making sure I'm in the same directory as the saved html files:"
   ]
  },
  {
   "cell_type": "code",
   "execution_count": 76,
   "metadata": {
    "collapsed": false
   },
   "outputs": [
    {
     "data": {
      "text/plain": [
       "['.ipynb_checkpoints',\n",
       " 'FB_overlap.ipynb',\n",
       " 'Presidential Management Fellows (PMF) - 2017.html',\n",
       " 'Presidential Management Fellows (PMF) - 2017_files',\n",
       " 'Presidential Management Fellows (PMF) 2018.html',\n",
       " 'Presidential Management Fellows (PMF) 2018_files',\n",
       " 'Presidential Management Fellows (PMF) DC Metro Area.html',\n",
       " 'Presidential Management Fellows (PMF) DC Metro Area_files',\n",
       " 'VennDiagram.jpeg']"
      ]
     },
     "execution_count": 76,
     "metadata": {},
     "output_type": "execute_result"
    }
   ],
   "source": [
    "os.listdir()"
   ]
  },
  {
   "cell_type": "code",
   "execution_count": 58,
   "metadata": {
    "collapsed": false
   },
   "outputs": [
    {
     "data": {
      "text/plain": [
       "['Presidential Management Fellows (PMF) - 2017.html',\n",
       " 'Presidential Management Fellows (PMF) 2018.html',\n",
       " 'Presidential Management Fellows (PMF) DC Metro Area.html']"
      ]
     },
     "execution_count": 58,
     "metadata": {},
     "output_type": "execute_result"
    }
   ],
   "source": [
    "FB_pages=[elm for elm in os.listdir() if 'html' in elm]\n",
    "FB_pages"
   ]
  },
  {
   "cell_type": "markdown",
   "metadata": {},
   "source": [
    "Looping through each html file, first finding the recently joined subsection, then finding all divs with the class id associated with a name. Extracting the name and appending it to a list. Finally, creating a list of lists for all 3 FB groups."
   ]
  },
  {
   "cell_type": "code",
   "execution_count": 84,
   "metadata": {
    "collapsed": false
   },
   "outputs": [],
   "source": [
    "name_set=[]\n",
    "for x in range(0,len(FB_pages)):\n",
    "    with open(FB_pages[x],'r',encoding='utf-8') as html:\n",
    "        soup = BeautifulSoup(html, 'html.parser')\n",
    "        soup = soup.find(\"div\", {\"id\": \"groupsMemberSection_recently_joined\"})\n",
    "        names=[]\n",
    "        for div in soup.findAll(\"div\", {\"class\": \"_60ri fsl fwb fcb\"}):\n",
    "            names.append(div.text)\n",
    "        N=list(pd.Series(names).unique());\n",
    "        name_set.append(N)"
   ]
  },
  {
   "cell_type": "markdown",
   "metadata": {},
   "source": [
    "Basic counts of the members found in each FB group page's html. Slightly less than FB claims."
   ]
  },
  {
   "cell_type": "code",
   "execution_count": 85,
   "metadata": {
    "collapsed": false,
    "scrolled": true
   },
   "outputs": [
    {
     "name": "stdout",
     "output_type": "stream",
     "text": [
      "Presidential Management Fellows (PMF) - 2017.html\n",
      "407\n",
      "Presidential Management Fellows (PMF) 2018.html\n",
      "278\n",
      "Presidential Management Fellows (PMF) DC Metro Area.html\n",
      "803\n"
     ]
    }
   ],
   "source": [
    "for x in range(0,len(FB_pages)):\n",
    "    print(FB_pages[x])\n",
    "    print(len(name_set[x]))"
   ]
  },
  {
   "cell_type": "markdown",
   "metadata": {},
   "source": [
    "Overlap counts between the groups:"
   ]
  },
  {
   "cell_type": "code",
   "execution_count": 86,
   "metadata": {
    "collapsed": false
   },
   "outputs": [
    {
     "name": "stdout",
     "output_type": "stream",
     "text": [
      "2017 2018 overlap\n",
      "99\n",
      "2017 DC overlap\n",
      "250\n",
      "2018 DC overlap\n",
      "137\n",
      "2017 2018 DC overlap\n",
      "64\n"
     ]
    }
   ],
   "source": [
    "print('2017 2018 overlap')\n",
    "print(len([elm for elm in name_set[0] if elm in name_set[1]]))\n",
    "print('2017 DC overlap')\n",
    "print(len([elm for elm in name_set[0] if elm in name_set[2]]))\n",
    "print('2018 DC overlap')\n",
    "print(len([elm for elm in name_set[1] if elm in name_set[2]]))\n",
    "print('2017 2018 DC overlap')\n",
    "print(len([elm for elm in name_set[0] if elm in name_set[1] and elm in name_set[2]]))"
   ]
  },
  {
   "cell_type": "code",
   "execution_count": null,
   "metadata": {
    "collapsed": true
   },
   "outputs": [],
   "source": []
  }
 ],
 "metadata": {
  "anaconda-cloud": {},
  "kernelspec": {
   "display_name": "Python [conda root]",
   "language": "python",
   "name": "conda-root-py"
  },
  "language_info": {
   "codemirror_mode": {
    "name": "ipython",
    "version": 3
   },
   "file_extension": ".py",
   "mimetype": "text/x-python",
   "name": "python",
   "nbconvert_exporter": "python",
   "pygments_lexer": "ipython3",
   "version": "3.5.2"
  }
 },
 "nbformat": 4,
 "nbformat_minor": 1
}
